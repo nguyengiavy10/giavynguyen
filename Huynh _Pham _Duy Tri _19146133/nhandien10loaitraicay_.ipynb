{
  "nbformat": 4,
  "nbformat_minor": 0,
  "metadata": {
    "colab": {
      "name": "nhandien10loaitraicay .ipynb",
      "provenance": [],
      "collapsed_sections": []
    },
    "kernelspec": {
      "name": "python3",
      "display_name": "Python 3"
    },
    "language_info": {
      "name": "python"
    },
    "accelerator": "GPU"
  },
  "cells": [
    {
      "cell_type": "code",
      "execution_count": null,
      "metadata": {
        "id": "CDebv1CX8Wle"
      },
      "outputs": [],
      "source": [
        "import numpy as np\n",
        "import os\n",
        "\n",
        "from keras.models import Sequential\n",
        "from keras.layers import Dense, Conv2D\n",
        "from keras.layers import Dropout\n",
        "from keras.layers import Flatten\n",
        "from keras.constraints import maxnorm\n",
        "from tensorflow.keras.optimizers import Adam\n",
        "\n",
        "from keras.layers.convolutional import Convolution2D\n",
        "from keras.layers.convolutional import MaxPooling2D\n",
        "from keras.callbacks import ModelCheckpoint, LearningRateScheduler\n",
        "from keras.callbacks import ReduceLROnPlateau\n",
        "from keras.callbacks import EarlyStopping\n",
        "\n",
        "\n",
        "from keras.utils import np_utils\n",
        "import matplotlib.pyplot as plt\n",
        "from keras.preprocessing.image import ImageDataGenerator"
      ]
    },
    {
      "cell_type": "code",
      "source": [
        "from google.colab import drive\n",
        "drive.mount('/content/drive')"
      ],
      "metadata": {
        "colab": {
          "base_uri": "https://localhost:8080/"
        },
        "id": "3Oi67Iy_Ba5j",
        "outputId": "0e426f8a-5f9b-4e00-c87c-d4d1b254251d"
      },
      "execution_count": null,
      "outputs": [
        {
          "output_type": "stream",
          "name": "stdout",
          "text": [
            "Mounted at /content/drive\n"
          ]
        }
      ]
    },
    {
      "cell_type": "code",
      "source": [
        "x_train= '/content/drive/MyDrive/10typesoffruits/x_train'\n",
        "x_test= '/content/drive/MyDrive/10typesoffruits/x_test'\n"
      ],
      "metadata": {
        "id": "d-HZG7AcCLOO"
      },
      "execution_count": null,
      "outputs": []
    },
    {
      "cell_type": "code",
      "source": [
        "\n",
        "x_train = ImageDataGenerator(rescale=1/255)\n",
        "x_test = ImageDataGenerator(rescale=1/255)\n",
        "\n"
      ],
      "metadata": {
        "id": "bk38G1TgC3Md"
      },
      "execution_count": null,
      "outputs": []
    },
    {
      "cell_type": "code",
      "source": [
        "x_train_data = x_train.flow_from_directory(\n",
        "    directory=r\"/content/drive/MyDrive/10typesoffruits/x_train\",\n",
        "    target_size=(224, 224),\n",
        "    batch_size=3,\n",
        "    class_mode='categorical',\n",
        "    )\n",
        "x_test_data = x_test.flow_from_directory(\n",
        "    directory=r\"/content/drive/MyDrive/10typesoffruits/x_test\",\n",
        "    target_size=(224, 224),\n",
        "    batch_size=3,\n",
        "    class_mode= \"categorical\",\n",
        "    )"
      ],
      "metadata": {
        "colab": {
          "base_uri": "https://localhost:8080/"
        },
        "id": "1AH8YV2hDFh0",
        "outputId": "c7fac729-94af-435d-8243-9cb0524f3974"
      },
      "execution_count": null,
      "outputs": [
        {
          "output_type": "stream",
          "name": "stdout",
          "text": [
            "Found 97 images belonging to 10 classes.\n",
            "Found 28 images belonging to 10 classes.\n"
          ]
        }
      ]
    },
    {
      "cell_type": "code",
      "source": [
        "x_train_data.class_indices"
      ],
      "metadata": {
        "colab": {
          "base_uri": "https://localhost:8080/"
        },
        "id": "Bm1c_MXkG4Hp",
        "outputId": "90c4f8e9-c1f6-4cb7-96f0-6f7adfce60bc"
      },
      "execution_count": null,
      "outputs": [
        {
          "output_type": "execute_result",
          "data": {
            "text/plain": [
              "{'apple': 0,\n",
              " 'banana': 1,\n",
              " 'cherry': 2,\n",
              " 'coconut': 3,\n",
              " 'durian': 4,\n",
              " 'kiwi': 5,\n",
              " 'mango': 6,\n",
              " 'orange': 7,\n",
              " 'pomelo': 8,\n",
              " 'water melon': 9}"
            ]
          },
          "metadata": {},
          "execution_count": 14
        }
      ]
    },
    {
      "cell_type": "code",
      "source": [
        "  model = Sequential()\n",
        "\n",
        "  model.add(Conv2D(32,(3,3),input_shape=(224,224,3),padding='same',activation='relu'))\n",
        "  model.add(Dropout(0.2))\n",
        "\n",
        "  model.add(Conv2D(32,(3,3),activation='relu',padding='same'))\n",
        "  model.add(MaxPooling2D(pool_size=(4,4)))\n",
        "\n",
        "  model.add(Conv2D(64,(3,3),activation='relu',padding='same'))\n",
        "  model.add(Dropout(0.2))\n",
        "\n",
        "  model.add(Conv2D(64,(3,3),activation='relu',padding='same'))\n",
        "  model.add(MaxPooling2D(pool_size=(2,2)))\n",
        "\n",
        "  model.add(Conv2D(128,(3,3),activation='relu',padding='same'))\n",
        "  model.add(Dropout(0.2))\n",
        "\n",
        "  model.add(Conv2D(128,(3,3),activation='relu',padding='same'))\n",
        "  model.add(MaxPooling2D(pool_size=(2,2)))\n",
        "\n",
        "  model.add(Flatten())\n",
        "  model.add(Dropout(0.2))\n",
        "\n",
        "  model.add(Dense(1026,activation='relu'))\n",
        "  model.add(Dropout(0.2))\n",
        "\n",
        "  model.add(Dense(512,activation='relu'))\n",
        "  model.add(Dropout(0.2))\n",
        "  model.add(Dense(100,activation='relu'))\n",
        "  model.add(Dropout(0.2))\n",
        "  model.add(Dense(10,activation='softmax'))\n",
        "  model.summary()"
      ],
      "metadata": {
        "colab": {
          "base_uri": "https://localhost:8080/"
        },
        "id": "ENMs-yzsHHbH",
        "outputId": "7e0d0801-06ff-4b2c-ddc7-705f8599a783"
      },
      "execution_count": null,
      "outputs": [
        {
          "output_type": "stream",
          "name": "stdout",
          "text": [
            "Model: \"sequential_6\"\n",
            "_________________________________________________________________\n",
            " Layer (type)                Output Shape              Param #   \n",
            "=================================================================\n",
            " conv2d_36 (Conv2D)          (None, 224, 224, 32)      896       \n",
            "                                                                 \n",
            " dropout_37 (Dropout)        (None, 224, 224, 32)      0         \n",
            "                                                                 \n",
            " conv2d_37 (Conv2D)          (None, 224, 224, 32)      9248      \n",
            "                                                                 \n",
            " max_pooling2d_18 (MaxPoolin  (None, 56, 56, 32)       0         \n",
            " g2D)                                                            \n",
            "                                                                 \n",
            " conv2d_38 (Conv2D)          (None, 56, 56, 64)        18496     \n",
            "                                                                 \n",
            " dropout_38 (Dropout)        (None, 56, 56, 64)        0         \n",
            "                                                                 \n",
            " conv2d_39 (Conv2D)          (None, 56, 56, 64)        36928     \n",
            "                                                                 \n",
            " max_pooling2d_19 (MaxPoolin  (None, 28, 28, 64)       0         \n",
            " g2D)                                                            \n",
            "                                                                 \n",
            " conv2d_40 (Conv2D)          (None, 28, 28, 128)       73856     \n",
            "                                                                 \n",
            " dropout_39 (Dropout)        (None, 28, 28, 128)       0         \n",
            "                                                                 \n",
            " conv2d_41 (Conv2D)          (None, 28, 28, 128)       147584    \n",
            "                                                                 \n",
            " max_pooling2d_20 (MaxPoolin  (None, 14, 14, 128)      0         \n",
            " g2D)                                                            \n",
            "                                                                 \n",
            " flatten_6 (Flatten)         (None, 25088)             0         \n",
            "                                                                 \n",
            " dropout_40 (Dropout)        (None, 25088)             0         \n",
            "                                                                 \n",
            " dense_19 (Dense)            (None, 1026)              25741314  \n",
            "                                                                 \n",
            " dropout_41 (Dropout)        (None, 1026)              0         \n",
            "                                                                 \n",
            " dense_20 (Dense)            (None, 512)               525824    \n",
            "                                                                 \n",
            " dropout_42 (Dropout)        (None, 512)               0         \n",
            "                                                                 \n",
            " dense_21 (Dense)            (None, 100)               51300     \n",
            "                                                                 \n",
            " dropout_43 (Dropout)        (None, 100)               0         \n",
            "                                                                 \n",
            " dense_22 (Dense)            (None, 10)                1010      \n",
            "                                                                 \n",
            "=================================================================\n",
            "Total params: 26,606,456\n",
            "Trainable params: 26,606,456\n",
            "Non-trainable params: 0\n",
            "_________________________________________________________________\n"
          ]
        }
      ]
    },
    {
      "cell_type": "code",
      "source": [
        "from tensorflow.keras.optimizers import SGD\n",
        "#opt = SGD(lr = 0.01, momentum= 0.9)\n",
        "model.compile(optimizer=Adam(learning_rate=0.0005), loss='categorical_crossentropy', metrics=['accuracy'])\n",
        "history=model.fit(x_train_data,\n",
        "                  epochs=10,\n",
        "                  batch_size=32,\n",
        "                  verbose=1,\n",
        "                  validation_data= x_test_data)"
      ],
      "metadata": {
        "colab": {
          "base_uri": "https://localhost:8080/"
        },
        "id": "ZlA6TBscHegU",
        "outputId": "7fb00868-ac67-4cfb-e03e-0e6017185ff9"
      },
      "execution_count": null,
      "outputs": [
        {
          "output_type": "stream",
          "name": "stdout",
          "text": [
            "Epoch 1/10\n",
            "33/33 [==============================] - 3s 60ms/step - loss: 1.1497 - accuracy: 0.5567 - val_loss: 2.2208 - val_accuracy: 0.2500\n",
            "Epoch 2/10\n",
            "33/33 [==============================] - 2s 53ms/step - loss: 0.7143 - accuracy: 0.7629 - val_loss: 3.1713 - val_accuracy: 0.1071\n",
            "Epoch 3/10\n",
            "33/33 [==============================] - 2s 52ms/step - loss: 0.7868 - accuracy: 0.7629 - val_loss: 2.5897 - val_accuracy: 0.2143\n",
            "Epoch 4/10\n",
            "33/33 [==============================] - 2s 48ms/step - loss: 0.4610 - accuracy: 0.8763 - val_loss: 2.5911 - val_accuracy: 0.2857\n",
            "Epoch 5/10\n",
            "33/33 [==============================] - 2s 51ms/step - loss: 0.3766 - accuracy: 0.8660 - val_loss: 3.4691 - val_accuracy: 0.1071\n",
            "Epoch 6/10\n",
            "33/33 [==============================] - 2s 48ms/step - loss: 0.3488 - accuracy: 0.8763 - val_loss: 3.4378 - val_accuracy: 0.2857\n",
            "Epoch 7/10\n",
            "33/33 [==============================] - 2s 50ms/step - loss: 0.1310 - accuracy: 0.9691 - val_loss: 3.8121 - val_accuracy: 0.2857\n",
            "Epoch 8/10\n",
            "33/33 [==============================] - 2s 47ms/step - loss: 0.2828 - accuracy: 0.9278 - val_loss: 3.1685 - val_accuracy: 0.2143\n",
            "Epoch 9/10\n",
            "33/33 [==============================] - 2s 51ms/step - loss: 0.2502 - accuracy: 0.9072 - val_loss: 3.1698 - val_accuracy: 0.2143\n",
            "Epoch 10/10\n",
            "33/33 [==============================] - 2s 51ms/step - loss: 0.1068 - accuracy: 0.9691 - val_loss: 4.3771 - val_accuracy: 0.2500\n"
          ]
        }
      ]
    },
    {
      "cell_type": "code",
      "source": [
        "model.save('nhandientraicay.h5')"
      ],
      "metadata": {
        "id": "rFfADOXAH7TV"
      },
      "execution_count": null,
      "outputs": []
    },
    {
      "cell_type": "code",
      "source": [
        "from keras.models import load_model\n",
        "nhandangtraicay = load_model('nhandientraicay.h5')"
      ],
      "metadata": {
        "id": "LH1M2vwkIs_5"
      },
      "execution_count": null,
      "outputs": []
    },
    {
      "cell_type": "code",
      "source": [
        "from keras.preprocessing.image import load_img, img_to_array\n",
        "img = load_img('/content/drive/MyDrive/10typesoffruits/x_test/apple/1.jpg', target_size =(224,224))\n",
        "plt.imshow(img)\n",
        "img = img_to_array(img)\n",
        "img = img.reshape(1,224,224,3)\n",
        "img = img.astype('float32')\n",
        "img = img/255\n",
        "img.shape"
      ],
      "metadata": {
        "colab": {
          "base_uri": "https://localhost:8080/",
          "height": 286
        },
        "id": "TRUoOhyrI50B",
        "outputId": "791e7a37-01cf-410a-e739-a727e0c8d515"
      },
      "execution_count": null,
      "outputs": [
        {
          "output_type": "execute_result",
          "data": {
            "text/plain": [
              "(1, 224, 224, 3)"
            ]
          },
          "metadata": {},
          "execution_count": 35
        },
        {
          "output_type": "display_data",
          "data": {
            "text/plain": [
              "<Figure size 432x288 with 1 Axes>"
            ],
            "image/png": "[encoded data removed]"
          },
          "metadata": {
            "needs_background": "light"
          }
        }
      ]
    },
    {
      "cell_type": "code",
      "source": [
        "np.argmax(nhandangtraicay.predict(img),axis= 1)"
      ],
      "metadata": {
        "colab": {
          "base_uri": "https://localhost:8080/"
        },
        "id": "SRlVKMyOJa_o",
        "outputId": "7a9c2afa-5089-498f-94f4-9113ddec4905"
      },
      "execution_count": null,
      "outputs": [
        {
          "output_type": "execute_result",
          "data": {
            "text/plain": [
              "array([0])"
            ]
          },
          "metadata": {},
          "execution_count": 36
        }
      ]
    },
    {
      "cell_type": "markdown",
      "source": [
        "{'apple': 0,\n",
        " 'banana': 1,\n",
        " 'cherry': 2,\n",
        " 'coconut': 3,\n",
        " 'durian': 4,\n",
        " 'kiwi': 5,\n",
        " 'mango': 6,\n",
        " 'orange': 7,\n",
        " 'pomelo': 8,\n",
        " 'water melon': 9}\n"
      ],
      "metadata": {
        "id": "6PV5V9dE7Bpe"
      }
    }
  ]
}